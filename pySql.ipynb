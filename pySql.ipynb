{
 "cells": [
  {
   "cell_type": "code",
   "execution_count": 4,
   "metadata": {},
   "outputs": [
    {
     "name": "stdout",
     "output_type": "stream",
     "text": [
      "Opened Database Sucessfully\n"
     ]
    }
   ],
   "source": [
    "import sqlite3\n",
    "\n",
    "conn = sqlite3.connect('test.db')\n",
    "print(\"Opened Database Sucessfully\")"
   ]
  },
  {
   "cell_type": "code",
   "execution_count": 6,
   "metadata": {},
   "outputs": [
    {
     "name": "stdout",
     "output_type": "stream",
     "text": [
      "Table Created Sucessfully\n"
     ]
    }
   ],
   "source": [
    "conn.execute('''CREATE TABLE CLASS\n",
    "(ID INT PRIMARY KEY NOT NULL,\n",
    "NAME TEXT NOT NULL,\n",
    "AGE INT NOT NULL,\n",
    "ADDRESS CHAR(50),\n",
    "SALARY REAL);''')\n",
    "\n",
    "print(\"Table Created Sucessfully\")"
   ]
  },
  {
   "cell_type": "code",
   "execution_count": 5,
   "metadata": {},
   "outputs": [
    {
     "data": {
      "text/plain": [
       "<sqlite3.Connection at 0x20dae6cf3b0>"
      ]
     },
     "execution_count": 5,
     "metadata": {},
     "output_type": "execute_result"
    }
   ],
   "source": [
    "conn"
   ]
  },
  {
   "cell_type": "code",
   "execution_count": 10,
   "metadata": {},
   "outputs": [
    {
     "ename": "IntegrityError",
     "evalue": "UNIQUE constraint failed: CLASS.ID",
     "output_type": "error",
     "traceback": [
      "\u001b[1;31m---------------------------------------------------------------------------\u001b[0m",
      "\u001b[1;31mIntegrityError\u001b[0m                            Traceback (most recent call last)",
      "\u001b[1;32m<ipython-input-10-1b6b3cd8a107>\u001b[0m in \u001b[0;36m<module>\u001b[1;34m\u001b[0m\n\u001b[0;32m      1\u001b[0m conn.execute(\"INSERT INTO CLASS (ID,NAME,AGE,ADDRESS,SALARY)\\\n\u001b[1;32m----> 2\u001b[1;33m VALUES (1,'Nilesh','22','Mumbai',200000.00)\");\n\u001b[0m\u001b[0;32m      3\u001b[0m \u001b[1;33m\u001b[0m\u001b[0m\n\u001b[0;32m      4\u001b[0m conn.execute(\"INSERT INTO CLASS (ID,NAME,AGE,ADDRESS,SALARY)\\\n\u001b[0;32m      5\u001b[0m VALUES (2,'Abhishek','21','Pune',300000.00)\");\n",
      "\u001b[1;31mIntegrityError\u001b[0m: UNIQUE constraint failed: CLASS.ID"
     ]
    }
   ],
   "source": [
    "conn.execute(\"INSERT INTO CLASS (ID,NAME,AGE,ADDRESS,SALARY)\\\n",
    "VALUES (1,'Nilesh','22','Mumbai',200000.00)\");\n",
    "\n",
    "conn.execute(\"INSERT INTO CLASS (ID,NAME,AGE,ADDRESS,SALARY)\\\n",
    "VALUES (2,'Abhishek','21','Pune',300000.00)\");\n",
    "\n",
    "conn.execute(\"INSERT INTO CLASS (ID,NAME,AGE,ADDRESS,SALARY)\\\n",
    "VALUES (3,'Spanden','20','New Delhi',400000.00)\");\n",
    "\n",
    "conn.execute(\"INSERT INTO CLASS (ID,NAME,AGE,ADDRESS,SALARY)\\\n",
    "VALUES (4,'Vijay','23','Chennai',500000.00)\");\n",
    "\n",
    "conn.commit()\n",
    "print(\"Records Created Sucessfully\")\n",
    "conn.close()"
   ]
  },
  {
   "cell_type": "code",
   "execution_count": 12,
   "metadata": {},
   "outputs": [],
   "source": [
    "conn.close()"
   ]
  },
  {
   "cell_type": "code",
   "execution_count": 24,
   "metadata": {},
   "outputs": [
    {
     "name": "stdout",
     "output_type": "stream",
     "text": [
      "Opened Database Sucessfully\n"
     ]
    }
   ],
   "source": [
    "conn = sqlite3.connect('test.db')\n",
    "print(\"Opened Database Sucessfully\")"
   ]
  },
  {
   "cell_type": "code",
   "execution_count": 21,
   "metadata": {},
   "outputs": [
    {
     "name": "stdout",
     "output_type": "stream",
     "text": [
      "ID= 1\n",
      "NAME= Nilesh\n",
      "ADDRESS= Mumbai\n",
      "SALARY= 200000.0\n",
      "ID= 2\n",
      "NAME= Abhishek\n",
      "ADDRESS= Pune\n",
      "SALARY= 300000.0\n",
      "ID= 3\n",
      "NAME= Spanden\n",
      "ADDRESS= New Delhi\n",
      "SALARY= 400000.0\n",
      "ID= 4\n",
      "NAME= Vijay\n",
      "ADDRESS= Chennai\n",
      "SALARY= 500000.0\n",
      "SELECT Query Sucessfully\n"
     ]
    }
   ],
   "source": [
    "cursor=conn.execute(\"SELECT ID,NAME,ADDRESS,SALARY from CLASS\")\n",
    "for row in cursor:\n",
    "    print(\"ID=\", row[0])\n",
    "    print(\"NAME=\", row[1])\n",
    "    print(\"ADDRESS=\", row[2])\n",
    "    print(\"SALARY=\", row[3]), \"\\n\"\n",
    "\n",
    "print(\"SELECT Query Sucessfully\")\n",
    "conn.close()"
   ]
  },
  {
   "cell_type": "code",
   "execution_count": 26,
   "metadata": {},
   "outputs": [
    {
     "name": "stdout",
     "output_type": "stream",
     "text": [
      "Opened Database Sucessfully\n",
      "Total Number of rows updated :  1\n",
      "ID =  1\n",
      "Name =  Nilesh\n",
      "ADDRESS =  Mumbai\n",
      "SALARY =  300000.0\n",
      "ID =  2\n",
      "Name =  Abhishek\n",
      "ADDRESS =  Pune\n",
      "SALARY =  300000.0\n",
      "ID =  3\n",
      "Name =  Spanden\n",
      "ADDRESS =  New Delhi\n",
      "SALARY =  400000.0\n",
      "ID =  4\n",
      "Name =  Vijay\n",
      "ADDRESS =  Chennai\n",
      "SALARY =  500000.0\n",
      "Update Query Sucessfully\n"
     ]
    }
   ],
   "source": [
    "conn = sqlite3.connect('test.db')\n",
    "print(\"Opened Database Sucessfully\")\n",
    "\n",
    "conn.execute(\"UPDATE CLASS set SALARY = 300000 where ID = 1\")\n",
    "conn.commit\n",
    "print(\"Total Number of rows updated : \", conn.total_changes)\n",
    "\n",
    "cursor = conn.execute(\"SELECT ID, NAME, ADDRESS,SALARY from CLASS\")\n",
    "for row in cursor:\n",
    "    print(\"ID = \", row[0])\n",
    "    print(\"Name = \",row[1])\n",
    "    print(\"ADDRESS = \", row[2])\n",
    "    print(\"SALARY = \", row[3]), \"\\n\"\n",
    "    \n",
    "print(\"Update Query Sucessfully\")\n",
    "conn.close()"
   ]
  },
  {
   "cell_type": "code",
   "execution_count": 27,
   "metadata": {},
   "outputs": [
    {
     "name": "stdout",
     "output_type": "stream",
     "text": [
      "Opened Database Sucessfully\n",
      "Total Number of rows deleted:  1\n",
      "ID =  1\n",
      "NAME =  Nilesh\n",
      "ADDRESS =  Mumbai\n",
      "SALARY =  200000.0\n",
      "ID =  3\n",
      "NAME =  Spanden\n",
      "ADDRESS =  New Delhi\n",
      "SALARY =  400000.0\n",
      "ID =  4\n",
      "NAME =  Vijay\n",
      "ADDRESS =  Chennai\n",
      "SALARY =  500000.0\n",
      "Delete Resord Sucessfully\n"
     ]
    }
   ],
   "source": [
    "conn = sqlite3.connect('test.db')\n",
    "print(\"Opened Database Sucessfully\")\n",
    "\n",
    "conn.execute(\"DELETE from CLASS where ID = 2;\")\n",
    "conn.commit()\n",
    "print(\"Total Number of rows deleted: \", conn.total_changes)\n",
    "cursor = conn.execute(\"SELECT ID,NAME,ADDRESS,SALARY from CLASS\")\n",
    "for row in cursor:\n",
    "    print(\"ID = \", row[0])\n",
    "    print(\"NAME = \",row[1])\n",
    "    print(\"ADDRESS = \", row[2])\n",
    "    print(\"SALARY = \", row[3]), \"\\n\"\n",
    "\n",
    "    \n",
    "print(\"Delete Resord Sucessfully\")\n",
    "conn.close()"
   ]
  },
  {
   "cell_type": "code",
   "execution_count": 28,
   "metadata": {},
   "outputs": [
    {
     "name": "stdout",
     "output_type": "stream",
     "text": [
      "Opened Database Sucessfully\n",
      "Total Number of rows deleted:  1\n",
      "ID =  3\n",
      "NAME =  Spanden\n",
      "ADDRESS =  New Delhi\n",
      "SALARY =  400000.0\n",
      "ID =  4\n",
      "NAME =  Vijay\n",
      "ADDRESS =  Chennai\n",
      "SALARY =  500000.0\n",
      "Delete Resord Sucessfully\n"
     ]
    }
   ],
   "source": [
    "conn = sqlite3.connect('test.db')\n",
    "print(\"Opened Database Sucessfully\")\n",
    "\n",
    "conn.execute(\"DELETE from CLASS where ID = 1;\")\n",
    "conn.commit()\n",
    "print(\"Total Number of rows deleted: \", conn.total_changes)\n",
    "cursor = conn.execute(\"SELECT ID,NAME,ADDRESS,SALARY from CLASS\")\n",
    "for row in cursor:\n",
    "    print(\"ID = \", row[0])\n",
    "    print(\"NAME = \",row[1])\n",
    "    print(\"ADDRESS = \", row[2])\n",
    "    print(\"SALARY = \", row[3]), \"\\n\"\n",
    "\n",
    "    \n",
    "print(\"Delete Resord Sucessfully\")"
   ]
  },
  {
   "cell_type": "code",
   "execution_count": 29,
   "metadata": {},
   "outputs": [],
   "source": [
    "c = conn.cursor()"
   ]
  },
  {
   "cell_type": "code",
   "execution_count": 30,
   "metadata": {},
   "outputs": [
    {
     "data": {
      "text/plain": [
       "<sqlite3.Cursor at 0x20dae7d5960>"
      ]
     },
     "execution_count": 30,
     "metadata": {},
     "output_type": "execute_result"
    }
   ],
   "source": [
    "c"
   ]
  },
  {
   "cell_type": "code",
   "execution_count": 37,
   "metadata": {},
   "outputs": [],
   "source": [
    "for row in cursor:\n",
    "    print(\"ID = \", row[0])\n",
    "    print(\"NAME = \",row[1])\n",
    "    print(\"ADDRESS = \", row[2])\n",
    "    print(\"SALARY = \", row[3]), \"\\n\"\n"
   ]
  },
  {
   "cell_type": "code",
   "execution_count": 38,
   "metadata": {},
   "outputs": [
    {
     "name": "stdout",
     "output_type": "stream",
     "text": [
      "Table Created Sucessfully\n"
     ]
    }
   ],
   "source": [
    "conn.execute('''CREATE TABLE CLASS1\n",
    "(ID INT PRIMARY KEY NOT NULL,\n",
    "NAME TEXT NOT NULL,\n",
    "AGE INT NOT NULL,\n",
    "ADDRESS CHAR(50),\n",
    "SALARY REAL);''')\n",
    "\n",
    "print(\"Table Created Sucessfully\")"
   ]
  },
  {
   "cell_type": "code",
   "execution_count": 39,
   "metadata": {},
   "outputs": [
    {
     "name": "stdout",
     "output_type": "stream",
     "text": [
      "Records Created Sucessfully\n"
     ]
    }
   ],
   "source": [
    "conn.execute(\"INSERT INTO CLASS1 (ID,NAME,AGE,ADDRESS,SALARY)\\\n",
    "VALUES (25,'Nilesh','22','Mumbai',200000.00)\");\n",
    "\n",
    "conn.execute(\"INSERT INTO CLASS1 (ID,NAME,AGE,ADDRESS,SALARY)\\\n",
    "VALUES (23,'Abhishek','21','Pune',300000.00)\");\n",
    "\n",
    "conn.execute(\"INSERT INTO CLASS1 (ID,NAME,AGE,ADDRESS,SALARY)\\\n",
    "VALUES (35,'Spanden','20','New Delhi',400000.00)\");\n",
    "\n",
    "conn.execute(\"INSERT INTO CLASS1 (ID,NAME,AGE,ADDRESS,SALARY)\\\n",
    "VALUES (44,'Vijay','23','Chennai',500000.00)\");\n",
    "\n",
    "conn.commit()\n",
    "print(\"Records Created Sucessfully\")\n",
    "conn.close()"
   ]
  },
  {
   "cell_type": "code",
   "execution_count": 41,
   "metadata": {},
   "outputs": [
    {
     "name": "stdout",
     "output_type": "stream",
     "text": [
      "Opened Database Sucessfully\n",
      "ID= 25\n",
      "NAME= Nilesh\n",
      "ADDRESS= Mumbai\n",
      "SALARY= 200000.0\n",
      "ID= 23\n",
      "NAME= Abhishek\n",
      "ADDRESS= Pune\n",
      "SALARY= 300000.0\n",
      "ID= 35\n",
      "NAME= Spanden\n",
      "ADDRESS= New Delhi\n",
      "SALARY= 400000.0\n",
      "ID= 44\n",
      "NAME= Vijay\n",
      "ADDRESS= Chennai\n",
      "SALARY= 500000.0\n",
      "SELECT Query Sucessfully\n"
     ]
    }
   ],
   "source": [
    "conn = sqlite3.connect('test.db')\n",
    "print(\"Opened Database Sucessfully\")\n",
    "cursor=conn.execute(\"SELECT ID,NAME,ADDRESS,SALARY from CLASS1\")\n",
    "for row in cursor:\n",
    "    print(\"ID=\", row[0])\n",
    "    print(\"NAME=\", row[1])\n",
    "    print(\"ADDRESS=\", row[2])\n",
    "    print(\"SALARY=\", row[3]), \"\\n\"\n",
    "\n",
    "print(\"SELECT Query Sucessfully\")\n",
    "conn.close()"
   ]
  },
  {
   "cell_type": "code",
   "execution_count": 42,
   "metadata": {},
   "outputs": [
    {
     "name": "stdout",
     "output_type": "stream",
     "text": [
      "Opened Database Sucessfully\n",
      "ID= 23\n",
      "NAME= Abhishek\n",
      "ADDRESS= Pune\n",
      "SALARY= 300000.0\n",
      "ID= 25\n",
      "NAME= Nilesh\n",
      "ADDRESS= Mumbai\n",
      "SALARY= 200000.0\n",
      "ID= 35\n",
      "NAME= Spanden\n",
      "ADDRESS= New Delhi\n",
      "SALARY= 400000.0\n",
      "ID= 44\n",
      "NAME= Vijay\n",
      "ADDRESS= Chennai\n",
      "SALARY= 500000.0\n",
      "SELECT Query Sucessfully\n"
     ]
    }
   ],
   "source": [
    "conn = sqlite3.connect('test.db')\n",
    "print(\"Opened Database Sucessfully\")\n",
    "cursor=conn.execute(\"SELECT ID,NAME,ADDRESS,SALARY from CLASS1 ORDER BY ID ASC\")\n",
    "for row in cursor:\n",
    "    print(\"ID=\", row[0])\n",
    "    print(\"NAME=\", row[1])\n",
    "    print(\"ADDRESS=\", row[2])\n",
    "    print(\"SALARY=\", row[3]), \"\\n\"\n",
    "\n",
    "print(\"SELECT Query Sucessfully\")\n",
    "conn.close()"
   ]
  },
  {
   "cell_type": "code",
   "execution_count": 43,
   "metadata": {},
   "outputs": [
    {
     "name": "stdout",
     "output_type": "stream",
     "text": [
      "Opened Database Sucessfully\n",
      "ID= 44\n",
      "NAME= Vijay\n",
      "ADDRESS= Chennai\n",
      "SALARY= 500000.0\n",
      "ID= 35\n",
      "NAME= Spanden\n",
      "ADDRESS= New Delhi\n",
      "SALARY= 400000.0\n",
      "ID= 25\n",
      "NAME= Nilesh\n",
      "ADDRESS= Mumbai\n",
      "SALARY= 200000.0\n",
      "ID= 23\n",
      "NAME= Abhishek\n",
      "ADDRESS= Pune\n",
      "SALARY= 300000.0\n",
      "SELECT Query Sucessfully\n"
     ]
    }
   ],
   "source": [
    "conn = sqlite3.connect('test.db')\n",
    "print(\"Opened Database Sucessfully\")\n",
    "cursor=conn.execute(\"SELECT ID,NAME,ADDRESS,SALARY from CLASS1 ORDER BY ID DESC\")\n",
    "for row in cursor:\n",
    "    print(\"ID=\", row[0])\n",
    "    print(\"NAME=\", row[1])\n",
    "    print(\"ADDRESS=\", row[2])\n",
    "    print(\"SALARY=\", row[3]), \"\\n\"\n",
    "\n",
    "print(\"SELECT Query Sucessfully\")\n",
    "conn.close()"
   ]
  },
  {
   "cell_type": "code",
   "execution_count": 46,
   "metadata": {},
   "outputs": [
    {
     "name": "stdout",
     "output_type": "stream",
     "text": [
      "Opened Database Sucessfully\n"
     ]
    },
    {
     "ename": "OperationalError",
     "evalue": "no such table: CLASS1",
     "output_type": "error",
     "traceback": [
      "\u001b[1;31m---------------------------------------------------------------------------\u001b[0m",
      "\u001b[1;31mOperationalError\u001b[0m                          Traceback (most recent call last)",
      "\u001b[1;32m<ipython-input-46-295c9571a29d>\u001b[0m in \u001b[0;36m<module>\u001b[1;34m\u001b[0m\n\u001b[0;32m      1\u001b[0m \u001b[0mconn\u001b[0m \u001b[1;33m=\u001b[0m \u001b[0msqlite3\u001b[0m\u001b[1;33m.\u001b[0m\u001b[0mconnect\u001b[0m\u001b[1;33m(\u001b[0m\u001b[1;34m'test.db'\u001b[0m\u001b[1;33m)\u001b[0m\u001b[1;33m\u001b[0m\u001b[1;33m\u001b[0m\u001b[0m\n\u001b[0;32m      2\u001b[0m \u001b[0mprint\u001b[0m\u001b[1;33m(\u001b[0m\u001b[1;34m\"Opened Database Sucessfully\"\u001b[0m\u001b[1;33m)\u001b[0m\u001b[1;33m\u001b[0m\u001b[1;33m\u001b[0m\u001b[0m\n\u001b[1;32m----> 3\u001b[1;33m \u001b[0mcursor\u001b[0m\u001b[1;33m=\u001b[0m\u001b[0mconn\u001b[0m\u001b[1;33m.\u001b[0m\u001b[0mexecute\u001b[0m\u001b[1;33m(\u001b[0m\u001b[1;34m\"SELECT ID,NAME,ADDRESS,SALARY from CLASS1 LIMIT 2\"\u001b[0m\u001b[1;33m)\u001b[0m\u001b[1;33m\u001b[0m\u001b[1;33m\u001b[0m\u001b[0m\n\u001b[0m\u001b[0;32m      4\u001b[0m \u001b[1;32mfor\u001b[0m \u001b[0mrow\u001b[0m \u001b[1;32min\u001b[0m \u001b[0mcursor\u001b[0m\u001b[1;33m:\u001b[0m\u001b[1;33m\u001b[0m\u001b[1;33m\u001b[0m\u001b[0m\n\u001b[0;32m      5\u001b[0m     \u001b[0mprint\u001b[0m\u001b[1;33m(\u001b[0m\u001b[1;34m\"ID=\"\u001b[0m\u001b[1;33m,\u001b[0m \u001b[0mrow\u001b[0m\u001b[1;33m[\u001b[0m\u001b[1;36m0\u001b[0m\u001b[1;33m]\u001b[0m\u001b[1;33m)\u001b[0m\u001b[1;33m\u001b[0m\u001b[1;33m\u001b[0m\u001b[0m\n",
      "\u001b[1;31mOperationalError\u001b[0m: no such table: CLASS1"
     ]
    }
   ],
   "source": [
    "conn = sqlite3.connect('test.db')\n",
    "print(\"Opened Database Sucessfully\")\n",
    "cursor=conn.execute(\"SELECT ID,NAME,ADDRESS,SALARY from CLASS1 LIMIT 2\")\n",
    "for row in cursor:\n",
    "    print(\"ID=\", row[0])\n",
    "    print(\"NAME=\", row[1])\n",
    "    print(\"ADDRESS=\", row[2])\n",
    "    print(\"SALARY=\", row[3]), \"\\n\"\n",
    "\n",
    "print(\"SELECT Query Sucessfully\")\n",
    "conn.close()"
   ]
  },
  {
   "cell_type": "code",
   "execution_count": 47,
   "metadata": {},
   "outputs": [
    {
     "name": "stdout",
     "output_type": "stream",
     "text": [
      "Opened Database Sucessfully\n"
     ]
    },
    {
     "ename": "OperationalError",
     "evalue": "near \"CLASS1\": syntax error",
     "output_type": "error",
     "traceback": [
      "\u001b[1;31m---------------------------------------------------------------------------\u001b[0m",
      "\u001b[1;31mOperationalError\u001b[0m                          Traceback (most recent call last)",
      "\u001b[1;32m<ipython-input-47-73454d885f32>\u001b[0m in \u001b[0;36m<module>\u001b[1;34m\u001b[0m\n\u001b[0;32m      1\u001b[0m \u001b[0mconn\u001b[0m \u001b[1;33m=\u001b[0m \u001b[0msqlite3\u001b[0m\u001b[1;33m.\u001b[0m\u001b[0mconnect\u001b[0m\u001b[1;33m(\u001b[0m\u001b[1;34m'test.db'\u001b[0m\u001b[1;33m)\u001b[0m\u001b[1;33m\u001b[0m\u001b[1;33m\u001b[0m\u001b[0m\n\u001b[0;32m      2\u001b[0m \u001b[0mprint\u001b[0m\u001b[1;33m(\u001b[0m\u001b[1;34m\"Opened Database Sucessfully\"\u001b[0m\u001b[1;33m)\u001b[0m\u001b[1;33m\u001b[0m\u001b[1;33m\u001b[0m\u001b[0m\n\u001b[1;32m----> 3\u001b[1;33m \u001b[0mcursor\u001b[0m\u001b[1;33m=\u001b[0m\u001b[0mconn\u001b[0m\u001b[1;33m.\u001b[0m\u001b[0mexecute\u001b[0m\u001b[1;33m(\u001b[0m\u001b[1;34m\"DROP TABLE [IF EXISTS] CLASS1\"\u001b[0m\u001b[1;33m)\u001b[0m\u001b[1;33m\u001b[0m\u001b[1;33m\u001b[0m\u001b[0m\n\u001b[0m\u001b[0;32m      4\u001b[0m \u001b[0mprint\u001b[0m\u001b[1;33m(\u001b[0m\u001b[1;34m\"Drop Query Sucessfully\"\u001b[0m\u001b[1;33m)\u001b[0m\u001b[1;33m\u001b[0m\u001b[1;33m\u001b[0m\u001b[0m\n\u001b[0;32m      5\u001b[0m \u001b[0mconn\u001b[0m\u001b[1;33m.\u001b[0m\u001b[0mclose\u001b[0m\u001b[1;33m(\u001b[0m\u001b[1;33m)\u001b[0m\u001b[1;33m\u001b[0m\u001b[1;33m\u001b[0m\u001b[0m\n",
      "\u001b[1;31mOperationalError\u001b[0m: near \"CLASS1\": syntax error"
     ]
    }
   ],
   "source": [
    "conn = sqlite3.connect('test.db')\n",
    "print(\"Opened Database Sucessfully\")\n",
    "cursor=conn.execute(\"DROP TABLE CLASS1\")\n",
    "print(\"Drop Query Sucessfully\")\n",
    "conn.close()"
   ]
  },
  {
   "cell_type": "code",
   "execution_count": null,
   "metadata": {},
   "outputs": [],
   "source": []
  }
 ],
 "metadata": {
  "kernelspec": {
   "display_name": "Python 3",
   "language": "python",
   "name": "python3"
  },
  "language_info": {
   "codemirror_mode": {
    "name": "ipython",
    "version": 3
   },
   "file_extension": ".py",
   "mimetype": "text/x-python",
   "name": "python",
   "nbconvert_exporter": "python",
   "pygments_lexer": "ipython3",
   "version": "3.7.6"
  }
 },
 "nbformat": 4,
 "nbformat_minor": 4
}
