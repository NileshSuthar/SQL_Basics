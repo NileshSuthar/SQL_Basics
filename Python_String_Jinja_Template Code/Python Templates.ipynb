{
 "cells": [
  {
   "cell_type": "code",
   "execution_count": 3,
   "metadata": {},
   "outputs": [
    {
     "name": "stdout",
     "output_type": "stream",
     "text": [
      "x is 1\n"
     ]
    }
   ],
   "source": [
    "#A Simple Python template example\n",
    "from string import Template\n",
    "#Create a template that has placeholder for value of x\n",
    "t = Template('x is $x')\n",
    "#Substitute value of x in above template\n",
    "print(t.substitute({'x' : 1}))"
   ]
  },
  {
   "cell_type": "code",
   "execution_count": 4,
   "metadata": {},
   "outputs": [
    {
     "name": "stdout",
     "output_type": "stream",
     "text": [
      "Hi Vishal, You have got 90 marks\n",
      "Hi Yashaswi, You have got 89 marks\n",
      "Hi Subhajit, You have got 94 marks\n"
     ]
    }
   ],
   "source": [
    "#A Python Program to demonstrate the working of the string template\n",
    "from string import Template\n",
    "\n",
    "#List student that stores the name and marks\n",
    "Student =[('Vishal',90),('Yashaswi',89),('Subhajit',94)]\n",
    "#we are creating a basic structure to print the name and marks of the students.\n",
    "t = Template('Hi $name, You have got $marks marks')\n",
    "\n",
    "for i in Student:\n",
    "    print(t.substitute(name=i[0], marks=i[1]))"
   ]
  },
  {
   "cell_type": "code",
   "execution_count": 5,
   "metadata": {},
   "outputs": [
    {
     "name": "stdout",
     "output_type": "stream",
     "text": [
      "Subhajit works as ML Engineer in $company\n"
     ]
    }
   ],
   "source": [
    "from string import Template\n",
    "template = Template('$name works as $role in $company')\n",
    "string = template.safe_substitute(name='Subhajit',role='ML Engineer')\n",
    "print(string)"
   ]
  },
  {
   "cell_type": "code",
   "execution_count": 6,
   "metadata": {},
   "outputs": [
    {
     "name": "stdout",
     "output_type": "stream",
     "text": [
      "Template String =  I am $name from $city\n"
     ]
    }
   ],
   "source": [
    "t = Template('I am $name from $city')\n",
    "print('Template String = ', t.template)"
   ]
  },
  {
   "cell_type": "code",
   "execution_count": 7,
   "metadata": {},
   "outputs": [
    {
     "name": "stdout",
     "output_type": "stream",
     "text": [
      "$ is the symbol for Dollar\n"
     ]
    }
   ],
   "source": [
    "template = Template ('$$ is the symbol for $name')\n",
    "string = template.substitute(name='Dollar')\n",
    "print(string)"
   ]
  },
  {
   "cell_type": "code",
   "execution_count": 8,
   "metadata": {},
   "outputs": [
    {
     "name": "stdout",
     "output_type": "stream",
     "text": [
      "That Fish looks Fishy\n"
     ]
    }
   ],
   "source": [
    "template = Template('That $noun looks ${noun}y')\n",
    "string = template.substitute(noun='Fish')\n",
    "print(string)"
   ]
  },
  {
   "cell_type": "code",
   "execution_count": 10,
   "metadata": {},
   "outputs": [
    {
     "name": "stdout",
     "output_type": "stream",
     "text": [
      "Requirement already satisfied: jinja2 in c:\\users\\lenovo\\anaconda3\\lib\\site-packages (2.11.1)\n",
      "Requirement already satisfied: MarkupSafe>=0.23 in c:\\users\\lenovo\\anaconda3\\lib\\site-packages (from jinja2) (1.1.1)\n"
     ]
    }
   ],
   "source": [
    "!pip install jinja2"
   ]
  },
  {
   "cell_type": "code",
   "execution_count": 12,
   "metadata": {},
   "outputs": [
    {
     "data": {
      "text/plain": [
       "'Hello world!'"
      ]
     },
     "execution_count": 12,
     "metadata": {},
     "output_type": "execute_result"
    }
   ],
   "source": [
    "from jinja2 import Template\n",
    "t = Template(\"Hello {{ Something}}!\")\n",
    "t.render(Something=\"world\")\n"
   ]
  },
  {
   "cell_type": "code",
   "execution_count": 13,
   "metadata": {},
   "outputs": [
    {
     "data": {
      "text/plain": [
       "'My favorite numbers: 123456789'"
      ]
     },
     "execution_count": 13,
     "metadata": {},
     "output_type": "execute_result"
    }
   ],
   "source": [
    "t = Template(\"My favorite numbers: {% for n in range(1,10)%}{{n}}\" \"{%endfor%}\")\n",
    "t.render()"
   ]
  },
  {
   "cell_type": "code",
   "execution_count": 16,
   "metadata": {},
   "outputs": [
    {
     "name": "stdout",
     "output_type": "stream",
     "text": [
      "Collecting jinjasql\n",
      "  Downloading jinjasql-0.1.8-py3-none-any.whl (4.9 kB)\n",
      "Requirement already satisfied: Jinja2>=2.5 in c:\\users\\lenovo\\anaconda3\\lib\\site-packages (from jinjasql) (2.11.1)\n",
      "Requirement already satisfied: MarkupSafe>=0.23 in c:\\users\\lenovo\\anaconda3\\lib\\site-packages (from Jinja2>=2.5->jinjasql) (1.1.1)\n",
      "Installing collected packages: jinjasql\n",
      "Successfully installed jinjasql-0.1.8\n"
     ]
    }
   ],
   "source": [
    "!pip install jinjasql"
   ]
  },
  {
   "cell_type": "code",
   "execution_count": 17,
   "metadata": {},
   "outputs": [],
   "source": [
    "user_transaction_template = '''\n",
    "select \n",
    "    user_id\n",
    "    , count(*) as num_transactions\n",
    "    ,sum(amount) as total_amount\n",
    "FROM\n",
    "    transactions\n",
    "where \n",
    "    user_id = {{user_id}}\n",
    "    and transaction_date = {{ transaction_date}}\n",
    "group BY    \n",
    "    user_id\n",
    "'''"
   ]
  },
  {
   "cell_type": "code",
   "execution_count": 22,
   "metadata": {},
   "outputs": [],
   "source": [
    "params = {\n",
    "    'user_id':1234,\n",
    "    'transaction_date': '2019-03-02'\n",
    "}"
   ]
  },
  {
   "cell_type": "code",
   "execution_count": 23,
   "metadata": {},
   "outputs": [],
   "source": [
    "from jinjasql import JinjaSql\n",
    "j = JinjaSql(param_style='pyformat')\n",
    "query, bind_params = j.prepare_query(user_transaction_template,params)"
   ]
  },
  {
   "cell_type": "code",
   "execution_count": 24,
   "metadata": {},
   "outputs": [
    {
     "name": "stdout",
     "output_type": "stream",
     "text": [
      "\n",
      "select \n",
      "    user_id\n",
      "    , count(*) as num_transactions\n",
      "    ,sum(amount) as total_amount\n",
      "FROM\n",
      "    transactions\n",
      "where \n",
      "    user_id = %(user_id_1)s\n",
      "    and transaction_date = %(transaction_date_2)s\n",
      "group BY    \n",
      "    user_id\n"
     ]
    }
   ],
   "source": [
    "print(query)"
   ]
  },
  {
   "cell_type": "code",
   "execution_count": 25,
   "metadata": {},
   "outputs": [
    {
     "name": "stdout",
     "output_type": "stream",
     "text": [
      "{'user_id_1': 1234, 'transaction_date_2': '2019-03-02'}\n"
     ]
    }
   ],
   "source": [
    "print(bind_params)"
   ]
  },
  {
   "cell_type": "code",
   "execution_count": 26,
   "metadata": {},
   "outputs": [
    {
     "name": "stdout",
     "output_type": "stream",
     "text": [
      "\n",
      "select \n",
      "    user_id\n",
      "    , count(*) as num_transactions\n",
      "    ,sum(amount) as total_amount\n",
      "FROM\n",
      "    transactions\n",
      "where \n",
      "    user_id = 1234\n",
      "    and transaction_date = 2019-03-02\n",
      "group BY    \n",
      "    user_id\n"
     ]
    }
   ],
   "source": [
    "print(query % bind_params)"
   ]
  },
  {
   "cell_type": "code",
   "execution_count": 49,
   "metadata": {},
   "outputs": [
    {
     "data": {
      "text/plain": [
       "False"
      ]
     },
     "execution_count": 49,
     "metadata": {},
     "output_type": "execute_result"
    }
   ],
   "source": [
    "from six import string_types\n",
    "isinstance(20190302, string_types)"
   ]
  },
  {
   "cell_type": "code",
   "execution_count": 44,
   "metadata": {},
   "outputs": [],
   "source": [
    "def quote_sql_string(value):\n",
    "    '''\n",
    "    If value is a string type, escapes single quotes in the string\n",
    "    and return the string enclosed in single quotes.\n",
    "    '''\n",
    "    if isinstance(value,string_types):\n",
    "        new_value = str(value)\n",
    "        new_value = new_value.replace(\"'\",\"''\")\n",
    "        return \"'{}'\".format(new_value)\n",
    "    return value"
   ]
  },
  {
   "cell_type": "code",
   "execution_count": 45,
   "metadata": {},
   "outputs": [],
   "source": [
    "from copy import deepcopy"
   ]
  },
  {
   "cell_type": "code",
   "execution_count": 46,
   "metadata": {},
   "outputs": [],
   "source": [
    "def get_sql_from_template(query, bind_params):\n",
    "    if not bind_params:\n",
    "        return query\n",
    "    params = deepcopy(bind_params)\n",
    "    for key, val in params.items():\n",
    "        params[key] = quote_sql_string(val)\n",
    "    return query % params"
   ]
  },
  {
   "cell_type": "code",
   "execution_count": 47,
   "metadata": {},
   "outputs": [
    {
     "name": "stdout",
     "output_type": "stream",
     "text": [
      "\n",
      "select \n",
      "    user_id\n",
      "    , count(*) as num_transactions\n",
      "    ,sum(amount) as total_amount\n",
      "FROM\n",
      "    transactions\n",
      "where \n",
      "    user_id = 1234\n",
      "    and transaction_date = '2019-03-02'\n",
      "group BY    \n",
      "    user_id\n"
     ]
    }
   ],
   "source": [
    "print(get_sql_from_template(query,bind_params))"
   ]
  },
  {
   "cell_type": "code",
   "execution_count": null,
   "metadata": {},
   "outputs": [],
   "source": [
    "import sqlite3\n",
    "\n",
    "conn = sqlite3.connect('test.db')\n",
    "print(\"Opened Database Sucessfully\")"
   ]
  },
  {
   "cell_type": "code",
   "execution_count": 61,
   "metadata": {},
   "outputs": [
    {
     "name": "stdout",
     "output_type": "stream",
     "text": [
      "Table Created Sucessfully\n"
     ]
    }
   ],
   "source": [
    "conn.execute('''CREATE TABLE transactionsss\n",
    "(transaction_id INT NOT NULL,\n",
    "user_id int NOT NULL,\n",
    "transaction_date date NOT NULL,\n",
    "store_id int,\n",
    "payment_method varchar(10),\n",
    "amount float);''')\n",
    "\n",
    "print(\"Table Created Sucessfully\")"
   ]
  },
  {
   "cell_type": "code",
   "execution_count": 62,
   "metadata": {},
   "outputs": [
    {
     "name": "stdout",
     "output_type": "stream",
     "text": [
      "Records Created Sucessfully\n"
     ]
    }
   ],
   "source": [
    "conn.execute(\"INSERT INTO transactionsss (transaction_id,user_id,transaction_date,store_id, payment_method,amount)\\\n",
    "VALUES (1,1234,'2019-03-02',1,'Cash','500')\");\n",
    "\n",
    "conn.execute(\"INSERT INTO transactionsss (transaction_id,user_id,transaction_date,store_id, payment_method,amount)\\\n",
    "VALUES (1,1234,'2019-03-01',1,'Credit','300')\");\n",
    "\n",
    "conn.execute(\"INSERT INTO transactionsss (transaction_id,user_id,transaction_date,store_id, payment_method,amount)\\\n",
    "VALUES (1,1234,'2019-03-02',2,'Cash','200')\");\n",
    "\n",
    "conn.execute(\"INSERT INTO transactionsss (transaction_id,user_id,transaction_date,store_id, payment_method,amount)\\\n",
    "VALUES (1,1234,'2019-03-03',2,'Credit','100')\");\n",
    "\n",
    "conn.execute(\"INSERT INTO transactionsss (transaction_id,user_id,transaction_date,store_id, payment_method,amount)\\\n",
    "VALUES (1,4321,'2019-03-01',2,'Cash','500')\");\n",
    "\n",
    "conn.execute(\"INSERT INTO transactionsss (transaction_id,user_id,transaction_date,store_id, payment_method,amount)\\\n",
    "VALUES (1,4321,'2019-03-02',2,'debit','400')\");\n",
    "\n",
    "conn.execute(\"INSERT INTO transactionsss (transaction_id,user_id,transaction_date,store_id, payment_method,amount)\\\n",
    "VALUES (1,4321,'2019-03-03',1,'Cash','700')\");\n",
    "\n",
    "conn.commit()\n",
    "print(\"Records Created Sucessfully\")"
   ]
  },
  {
   "cell_type": "code",
   "execution_count": 63,
   "metadata": {},
   "outputs": [],
   "source": [
    "_BASIC_STATS_TEMPLATE = '''\n",
    "select\n",
    "    {{dim | sqlsafe}}\n",
    "    , count(*) as num_transactions\n",
    "    , sum(amount) as total_amount\n",
    "    , avg(amount) as avg_amount\n",
    "from\n",
    "    transactionsss\n",
    "group by\n",
    "    {{dim | sqlsafe}}\n",
    "order by total_amount desc\n",
    "'''\n"
   ]
  },
  {
   "cell_type": "code",
   "execution_count": 65,
   "metadata": {},
   "outputs": [],
   "source": [
    "def apply_sql_template(template,parameters, func_list=None):\n",
    "    j = JinjaSql(param_style='pyformat')\n",
    "    if func_list:\n",
    "        for func in func_list:\n",
    "            j.env.globals[func.__name__] = func\n",
    "    query, bind_params = j.prepare_query(template,parameters)\n",
    "    return get_sql_from_template(query, bind_params)"
   ]
  },
  {
   "cell_type": "code",
   "execution_count": 67,
   "metadata": {},
   "outputs": [],
   "source": [
    "params = {\n",
    "    'dim': 'payment_method'\n",
    "}\n",
    "sql = apply_sql_template(_BASIC_STATS_TEMPLATE, params)"
   ]
  },
  {
   "cell_type": "code",
   "execution_count": 71,
   "metadata": {},
   "outputs": [],
   "source": [
    "def get_basic_stats_sql(dimensions):\n",
    "    return apply_sql_template(_BASIC_STATS_TEMPLATE, params)"
   ]
  },
  {
   "cell_type": "code",
   "execution_count": 77,
   "metadata": {},
   "outputs": [],
   "source": [
    "def get_basic_stats_sql(dimensions):\n",
    "    params = {\n",
    "        'dim': '\\n  ,'.join(dimensions)\n",
    "    }\n",
    "    return apply_sql_template(_BASIC_STATS_TEMPLATE, params)"
   ]
  },
  {
   "cell_type": "code",
   "execution_count": 78,
   "metadata": {},
   "outputs": [
    {
     "name": "stdout",
     "output_type": "stream",
     "text": [
      "\n",
      "select\n",
      "    store_id\n",
      "  ,payment_method\n",
      "    , count(*) as num_transactions\n",
      "    , sum(amount) as total_amount\n",
      "    , avg(amount) as avg_amount\n",
      "from\n",
      "    transactionsss\n",
      "group by\n",
      "    store_id\n",
      "  ,payment_method\n",
      "order by total_amount desc\n"
     ]
    }
   ],
   "source": [
    "print(get_basic_stats_sql(['store_id','payment_method']))"
   ]
  },
  {
   "cell_type": "code",
   "execution_count": null,
   "metadata": {},
   "outputs": [],
   "source": []
  }
 ],
 "metadata": {
  "kernelspec": {
   "display_name": "Python 3",
   "language": "python",
   "name": "python3"
  },
  "language_info": {
   "codemirror_mode": {
    "name": "ipython",
    "version": 3
   },
   "file_extension": ".py",
   "mimetype": "text/x-python",
   "name": "python",
   "nbconvert_exporter": "python",
   "pygments_lexer": "ipython3",
   "version": "3.7.6"
  }
 },
 "nbformat": 4,
 "nbformat_minor": 4
}
