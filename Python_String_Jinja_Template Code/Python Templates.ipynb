{
 "cells": [
  {
   "cell_type": "code",
   "execution_count": 3,
   "metadata": {},
   "outputs": [
    {
     "name": "stdout",
     "output_type": "stream",
     "text": [
      "x is 1\n"
     ]
    }
   ],
   "source": [
    "#A Simple Python template example\n",
    "from string import Template\n",
    "#Create a template that has placeholder for value of x\n",
    "t = Template('x is $x')\n",
    "#Substitute value of x in above template\n",
    "print(t.substitute({'x' : 1}))"
   ]
  },
  {
   "cell_type": "code",
   "execution_count": 4,
   "metadata": {},
   "outputs": [
    {
     "name": "stdout",
     "output_type": "stream",
     "text": [
      "Hi Vishal, You have got 90 marks\n",
      "Hi Yashaswi, You have got 89 marks\n",
      "Hi Subhajit, You have got 94 marks\n"
     ]
    }
   ],
   "source": [
    "#A Python Program to demonstrate the working of the string template\n",
    "from string import Template\n",
    "\n",
    "#List student that stores the name and marks\n",
    "Student =[('Vishal',90),('Yashaswi',89),('Subhajit',94)]\n",
    "#we are creating a basic structure to print the name and marks of the students.\n",
    "t = Template('Hi $name, You have got $marks marks')\n",
    "\n",
    "for i in Student:\n",
    "    print(t.substitute(name=i[0], marks=i[1]))"
   ]
  },
  {
   "cell_type": "code",
   "execution_count": 5,
   "metadata": {},
   "outputs": [
    {
     "name": "stdout",
     "output_type": "stream",
     "text": [
      "Subhajit works as ML Engineer in $company\n"
     ]
    }
   ],
   "source": [
    "from string import Template\n",
    "template = Template('$name works as $role in $company')\n",
    "string = template.safe_substitute(name='Subhajit',role='ML Engineer')\n",
    "print(string)"
   ]
  },
  {
   "cell_type": "code",
   "execution_count": 6,
   "metadata": {},
   "outputs": [
    {
     "name": "stdout",
     "output_type": "stream",
     "text": [
      "Template String =  I am $name from $city\n"
     ]
    }
   ],
   "source": [
    "t = Template('I am $name from $city')\n",
    "print('Template String = ', t.template)"
   ]
  },
  {
   "cell_type": "code",
   "execution_count": 7,
   "metadata": {},
   "outputs": [
    {
     "name": "stdout",
     "output_type": "stream",
     "text": [
      "$ is the symbol for Dollar\n"
     ]
    }
   ],
   "source": [
    "template = Template ('$$ is the symbol for $name')\n",
    "string = template.substitute(name='Dollar')\n",
    "print(string)"
   ]
  },
  {
   "cell_type": "code",
   "execution_count": 8,
   "metadata": {},
   "outputs": [
    {
     "name": "stdout",
     "output_type": "stream",
     "text": [
      "That Fish looks Fishy\n"
     ]
    }
   ],
   "source": [
    "template = Template('That $noun looks ${noun}y')\n",
    "string = template.substitute(noun='Fish')\n",
    "print(string)"
   ]
  },
  {
   "cell_type": "code",
   "execution_count": 10,
   "metadata": {},
   "outputs": [
    {
     "name": "stdout",
     "output_type": "stream",
     "text": [
      "Requirement already satisfied: jinja2 in c:\\users\\lenovo\\anaconda3\\lib\\site-packages (2.11.1)\n",
      "Requirement already satisfied: MarkupSafe>=0.23 in c:\\users\\lenovo\\anaconda3\\lib\\site-packages (from jinja2) (1.1.1)\n"
     ]
    }
   ],
   "source": [
    "!pip install jinja2"
   ]
  },
  {
   "cell_type": "code",
   "execution_count": 12,
   "metadata": {},
   "outputs": [
    {
     "data": {
      "text/plain": [
       "'Hello world!'"
      ]
     },
     "execution_count": 12,
     "metadata": {},
     "output_type": "execute_result"
    }
   ],
   "source": [
    "from jinja2 import Template\n",
    "t = Template(\"Hello {{ Something}}!\")\n",
    "t.render(Something=\"world\")\n"
   ]
  },
  {
   "cell_type": "code",
   "execution_count": 13,
   "metadata": {},
   "outputs": [
    {
     "data": {
      "text/plain": [
       "'My favorite numbers: 123456789'"
      ]
     },
     "execution_count": 13,
     "metadata": {},
     "output_type": "execute_result"
    }
   ],
   "source": [
    "t = Template(\"My favorite numbers: {% for n in range(1,10)%}{{n}}\" \"{%endfor%}\")\n",
    "t.render()"
   ]
  },
  {
   "cell_type": "code",
   "execution_count": 15,
   "metadata": {},
   "outputs": [
    {
     "name": "stdout",
     "output_type": "stream",
     "text": [
      "Requirement already satisfied: flask in c:\\users\\lenovo\\anaconda3\\lib\\site-packages (1.1.1)\n",
      "Requirement already satisfied: Jinja2>=2.10.1 in c:\\users\\lenovo\\anaconda3\\lib\\site-packages (from flask) (2.11.1)\n",
      "Requirement already satisfied: click>=5.1 in c:\\users\\lenovo\\anaconda3\\lib\\site-packages (from flask) (7.0)\n",
      "Requirement already satisfied: Werkzeug>=0.15 in c:\\users\\lenovo\\anaconda3\\lib\\site-packages (from flask) (1.0.0)\n",
      "Requirement already satisfied: itsdangerous>=0.24 in c:\\users\\lenovo\\anaconda3\\lib\\site-packages (from flask) (1.1.0)\n",
      "Requirement already satisfied: MarkupSafe>=0.23 in c:\\users\\lenovo\\anaconda3\\lib\\site-packages (from Jinja2>=2.10.1->flask) (1.1.1)\n"
     ]
    }
   ],
   "source": [
    "!pip install flask"
   ]
  },
  {
   "cell_type": "code",
   "execution_count": null,
   "metadata": {},
   "outputs": [],
   "source": []
  }
 ],
 "metadata": {
  "kernelspec": {
   "display_name": "Python 3",
   "language": "python",
   "name": "python3"
  },
  "language_info": {
   "codemirror_mode": {
    "name": "ipython",
    "version": 3
   },
   "file_extension": ".py",
   "mimetype": "text/x-python",
   "name": "python",
   "nbconvert_exporter": "python",
   "pygments_lexer": "ipython3",
   "version": "3.7.6"
  }
 },
 "nbformat": 4,
 "nbformat_minor": 4
}
