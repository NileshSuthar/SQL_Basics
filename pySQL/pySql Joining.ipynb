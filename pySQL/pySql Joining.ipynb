{
 "cells": [
  {
   "cell_type": "code",
   "execution_count": 2,
   "metadata": {},
   "outputs": [
    {
     "name": "stdout",
     "output_type": "stream",
     "text": [
      "Opened Database Sucessfully\n",
      "Table Created Sucessfully\n"
     ]
    }
   ],
   "source": [
    "import sqlite3\n",
    "\n",
    "conn = sqlite3.connect('test.db')\n",
    "print(\"Opened Database Sucessfully\")\n",
    "conn.execute('''CREATE TABLE CLASS1\n",
    "(ID INT PRIMARY KEY NOT NULL,\n",
    "NAME TEXT NOT NULL,\n",
    "AGE INT NOT NULL,\n",
    "ADDRESS CHAR(50),\n",
    "SALARY REAL);''')\n",
    "\n",
    "print(\"Table Created Sucessfully\")"
   ]
  },
  {
   "cell_type": "code",
   "execution_count": 3,
   "metadata": {},
   "outputs": [
    {
     "name": "stdout",
     "output_type": "stream",
     "text": [
      "Records Created Sucessfully\n"
     ]
    }
   ],
   "source": [
    "conn.execute(\"INSERT INTO CLASS1 (ID,NAME,AGE,ADDRESS,SALARY)\\\n",
    "VALUES (25,'Nilesh','22','Mumbai',200000.00)\");\n",
    "\n",
    "conn.execute(\"INSERT INTO CLASS1 (ID,NAME,AGE,ADDRESS,SALARY)\\\n",
    "VALUES (23,'Abhishek','21','Pune',300000.00)\");\n",
    "\n",
    "conn.execute(\"INSERT INTO CLASS1 (ID,NAME,AGE,ADDRESS,SALARY)\\\n",
    "VALUES (35,'Spanden','20','New Delhi',400000.00)\");\n",
    "\n",
    "conn.execute(\"INSERT INTO CLASS1 (ID,NAME,AGE,ADDRESS,SALARY)\\\n",
    "VALUES (44,'Vijay','23','Chennai',500000.00)\");\n",
    "\n",
    "conn.commit()\n",
    "print(\"Records Created Sucessfully\")"
   ]
  },
  {
   "cell_type": "code",
   "execution_count": 9,
   "metadata": {},
   "outputs": [
    {
     "name": "stdout",
     "output_type": "stream",
     "text": [
      "Table Created Sucessfully\n"
     ]
    }
   ],
   "source": [
    "conn.execute('''CREATE TABLE CLASS2\n",
    "(ID INT PRIMARY KEY NOT NULL,\n",
    "AGE INT NOT NULL,\n",
    "ADDRESS CHAR(50),\n",
    "SALARY REAL);''')\n",
    "\n",
    "print(\"Table Created Sucessfully\")"
   ]
  },
  {
   "cell_type": "code",
   "execution_count": 10,
   "metadata": {},
   "outputs": [
    {
     "name": "stdout",
     "output_type": "stream",
     "text": [
      "Records Created Sucessfully\n"
     ]
    }
   ],
   "source": [
    "conn.execute(\"INSERT INTO CLASS2 (ID,AGE,ADDRESS,SALARY)\\\n",
    "VALUES (20,'22','Mumbai',200000.00)\");\n",
    "\n",
    "conn.execute(\"INSERT INTO CLASS2 (ID,AGE,ADDRESS,SALARY)\\\n",
    "VALUES (23,'21','Pune',300000.00)\");\n",
    "\n",
    "conn.execute(\"INSERT INTO CLASS2 (ID,AGE,ADDRESS,SALARY)\\\n",
    "VALUES (31,'20','New Delhi',400000.00)\");\n",
    "\n",
    "conn.execute(\"INSERT INTO CLASS2 (ID,AGE,ADDRESS,SALARY)\\\n",
    "VALUES (44,'23','Chennai',500000.00)\");\n",
    "\n",
    "conn.commit()\n",
    "print(\"Records Created Sucessfully\")"
   ]
  },
  {
   "cell_type": "code",
   "execution_count": 12,
   "metadata": {},
   "outputs": [
    {
     "name": "stdout",
     "output_type": "stream",
     "text": [
      "NAME= Abhishek\n",
      "NAME= Vijay\n",
      "INNER Join  Query Sucessfully\n"
     ]
    }
   ],
   "source": [
    "cursor=conn.execute(\"SELECT NAME from CLASS1 INNER JOIN CLASS2 ON CLASS1.ID = CLASS2.ID\")\n",
    "for row in cursor:\n",
    "    print(\"NAME=\", row[0]), \"\\n\"\n",
    "\n",
    "print(\"INNER Join  Query Sucessfully\")\n"
   ]
  },
  {
   "cell_type": "code",
   "execution_count": null,
   "metadata": {},
   "outputs": [],
   "source": [
    "(\"SELECT NAME from CLASS1 LEFT JOIN CLASS2 ON CLASS1.ID = CLASS2.ID\")"
   ]
  },
  {
   "cell_type": "code",
   "execution_count": null,
   "metadata": {},
   "outputs": [],
   "source": []
  }
 ],
 "metadata": {
  "kernelspec": {
   "display_name": "Python 3",
   "language": "python",
   "name": "python3"
  },
  "language_info": {
   "codemirror_mode": {
    "name": "ipython",
    "version": 3
   },
   "file_extension": ".py",
   "mimetype": "text/x-python",
   "name": "python",
   "nbconvert_exporter": "python",
   "pygments_lexer": "ipython3",
   "version": "3.7.6"
  }
 },
 "nbformat": 4,
 "nbformat_minor": 4
}
